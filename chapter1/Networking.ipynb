{
 "cells": [
  {
   "cell_type": "markdown",
   "metadata": {},
   "source": [
    "# Networking "
   ]
  },
  {
   "cell_type": "code",
   "execution_count": 21,
   "metadata": {},
   "outputs": [],
   "source": [
    "import socket\n",
    "\n",
    "def get_banner(ip, port):\n",
    "    \"\"\"Open socket connection to given ip:port and \n",
    "    read first 1024 bytes from open socket connection\"\"\"\n",
    "    socket.setdefaulttimeout(2)\n",
    "    s = socket.socket()\n",
    "    try:\n",
    "        s.connect((ip, port))\n",
    "        ans = s.recv(1024)\n",
    "        return ans\n",
    "    except Exception, e:\n",
    "        print(\"[-] Error {}:{} = {}\".format(ip, port, e))\n",
    "        return None\n",
    "    \n",
    "def check_vulnerabilities(banner, filename=\"banners.txt\"):\n",
    "    \"\"\"From given banner, check if from \"filename\" theres is any match\"\"\"\n",
    "    with open(filename, 'r') as f:\n",
    "        for line in f.readlines():\n",
    "            if line.strip('\\n') in banner:\n",
    "                print \"[+] Server is vulnerable: {}\".format(banner.strip('\\n'))"
   ]
  },
  {
   "cell_type": "code",
   "execution_count": 22,
   "metadata": {
    "collapsed": true
   },
   "outputs": [
    {
     "name": "stdout",
     "output_type": "stream",
     "text": [
      "[-] Error 192.168.1.1:21 = timed out\n",
      "[-] Error 192.168.1.1:22 = timed out\n",
      "[-] Error 192.168.1.1:25 = timed out\n",
      "[-] Error 192.168.1.1:80 = [Errno 64] Host is down\n",
      "[-] Error 192.168.1.1:110 = [Errno 64] Host is down\n",
      "[-] Error 192.168.1.1:443 = [Errno 64] Host is down\n",
      "[-] Error 192.168.1.2:21 = timed out\n",
      "[-] Error 192.168.1.2:22 = timed out\n",
      "[-] Error 192.168.1.2:25 = timed out\n",
      "[-] Error 192.168.1.2:80 = [Errno 64] Host is down\n",
      "[-] Error 192.168.1.2:110 = [Errno 64] Host is down\n",
      "[-] Error 192.168.1.2:443 = [Errno 64] Host is down\n",
      "[-] Error 192.168.1.3:21 = timed out\n",
      "[-] Error 192.168.1.3:22 = timed out\n",
      "[-] Error 192.168.1.3:25 = [Errno 65] No route to host\n",
      "[-] Error 192.168.1.3:80 = [Errno 64] Host is down\n",
      "[-] Error 192.168.1.3:110 = [Errno 64] Host is down\n",
      "[-] Error 192.168.1.3:443 = [Errno 64] Host is down\n",
      "[-] Error 192.168.1.4:21 = timed out\n",
      "[-] Error 192.168.1.4:22 = timed out\n",
      "[-] Error 192.168.1.4:25 = timed out\n",
      "[-] Error 192.168.1.4:80 = [Errno 64] Host is down\n",
      "[-] Error 192.168.1.4:110 = [Errno 64] Host is down\n",
      "[-] Error 192.168.1.4:443 = [Errno 64] Host is down\n",
      "[-] Error 192.168.1.5:21 = timed out\n",
      "[-] Error 192.168.1.5:22 = timed out\n",
      "[-] Error 192.168.1.5:25 = timed out\n",
      "[-] Error 192.168.1.5:80 = [Errno 64] Host is down\n",
      "[-] Error 192.168.1.5:110 = [Errno 64] Host is down\n",
      "[-] Error 192.168.1.5:443 = [Errno 64] Host is down\n",
      "[-] Error 192.168.1.6:21 = timed out\n",
      "[-] Error 192.168.1.6:22 = timed out\n",
      "[-] Error 192.168.1.6:25 = timed out\n",
      "[-] Error 192.168.1.6:80 = [Errno 64] Host is down\n",
      "[-] Error 192.168.1.6:110 = [Errno 64] Host is down\n",
      "[-] Error 192.168.1.6:443 = [Errno 64] Host is down\n",
      "[-] Error 192.168.1.7:21 = timed out\n",
      "[-] Error 192.168.1.7:22 = timed out\n",
      "[-] Error 192.168.1.7:25 = timed out\n",
      "[-] Error 192.168.1.7:80 = [Errno 64] Host is down\n",
      "[-] Error 192.168.1.7:110 = [Errno 64] Host is down\n",
      "[-] Error 192.168.1.7:443 = [Errno 64] Host is down\n",
      "[-] Error 192.168.1.8:21 = timed out\n",
      "[-] Error 192.168.1.8:22 = timed out\n",
      "[-] Error 192.168.1.8:25 = timed out\n",
      "[-] Error 192.168.1.8:80 = [Errno 64] Host is down\n",
      "[-] Error 192.168.1.8:110 = [Errno 64] Host is down\n",
      "[-] Error 192.168.1.8:443 = [Errno 64] Host is down\n",
      "[-] Error 192.168.1.9:21 = timed out\n",
      "[-] Error 192.168.1.9:22 = timed out\n",
      "[-] Error 192.168.1.9:25 = timed out\n",
      "[-] Error 192.168.1.9:80 = [Errno 65] No route to host\n",
      "[-] Error 192.168.1.9:110 = [Errno 64] Host is down\n",
      "[-] Error 192.168.1.9:443 = [Errno 64] Host is down\n",
      "[-] Error 192.168.1.10:21 = timed out\n",
      "[-] Error 192.168.1.10:22 = timed out\n",
      "[-] Error 192.168.1.10:25 = timed out\n",
      "[-] Error 192.168.1.10:80 = [Errno 65] No route to host\n",
      "[-] Error 192.168.1.10:110 = [Errno 64] Host is down\n",
      "[-] Error 192.168.1.10:443 = [Errno 64] Host is down\n",
      "[-] Error 192.168.1.11:21 = timed out\n",
      "[-] Error 192.168.1.11:22 = timed out\n",
      "[-] Error 192.168.1.11:25 = timed out\n",
      "[-] Error 192.168.1.11:80 = [Errno 64] Host is down\n",
      "[-] Error 192.168.1.11:110 = [Errno 64] Host is down\n",
      "[-] Error 192.168.1.11:443 = [Errno 64] Host is down\n",
      "[-] Error 192.168.1.12:21 = timed out\n",
      "[-] Error 192.168.1.12:22 = timed out\n",
      "[-] Error 192.168.1.12:25 = timed out\n",
      "[-] Error 192.168.1.12:80 = timed out\n",
      "[-] Error 192.168.1.12:110 = [Errno 64] Host is down\n",
      "[-] Error 192.168.1.12:443 = [Errno 64] Host is down\n",
      "[-] Error 192.168.1.13:21 = timed out\n",
      "[-] Error 192.168.1.13:22 = timed out\n",
      "[-] Error 192.168.1.13:25 = timed out\n",
      "[-] Error 192.168.1.13:80 = timed out\n",
      "[-] Error 192.168.1.13:110 = timed out\n",
      "[-] Error 192.168.1.13:443 = [Errno 64] Host is down\n",
      "[-] Error 192.168.1.14:21 = timed out\n",
      "[-] Error 192.168.1.14:22 = timed out\n",
      "[-] Error 192.168.1.14:25 = timed out\n",
      "[-] Error 192.168.1.14:80 = timed out\n",
      "[-] Error 192.168.1.14:110 = [Errno 64] Host is down\n",
      "[-] Error 192.168.1.14:443 = [Errno 64] Host is down\n",
      "[-] Error 192.168.1.15:21 = timed out\n",
      "[-] Error 192.168.1.15:22 = timed out\n",
      "[-] Error 192.168.1.15:25 = timed out\n"
     ]
    },
    {
     "ename": "KeyboardInterrupt",
     "evalue": "",
     "output_type": "error",
     "traceback": [
      "\u001b[0;31m---------------------------------------------------------------------------\u001b[0m",
      "\u001b[0;31mKeyboardInterrupt\u001b[0m                         Traceback (most recent call last)",
      "\u001b[0;32m<ipython-input-22-524c9e0ec3ba>\u001b[0m in \u001b[0;36m<module>\u001b[0;34m()\u001b[0m\n\u001b[1;32m      7\u001b[0m \u001b[0;32mfor\u001b[0m \u001b[0mip\u001b[0m \u001b[0;32min\u001b[0m \u001b[0mip_list\u001b[0m\u001b[0;34m:\u001b[0m\u001b[0;34m\u001b[0m\u001b[0m\n\u001b[1;32m      8\u001b[0m     \u001b[0;32mfor\u001b[0m \u001b[0mport\u001b[0m \u001b[0;32min\u001b[0m \u001b[0mport_list\u001b[0m\u001b[0;34m:\u001b[0m\u001b[0;34m\u001b[0m\u001b[0m\n\u001b[0;32m----> 9\u001b[0;31m         \u001b[0mbanner\u001b[0m \u001b[0;34m=\u001b[0m \u001b[0mget_banner\u001b[0m\u001b[0;34m(\u001b[0m\u001b[0mip\u001b[0m\u001b[0;34m,\u001b[0m \u001b[0mport\u001b[0m\u001b[0;34m)\u001b[0m\u001b[0;34m\u001b[0m\u001b[0m\n\u001b[0m\u001b[1;32m     10\u001b[0m         \u001b[0;32mif\u001b[0m \u001b[0mbanner\u001b[0m\u001b[0;34m:\u001b[0m\u001b[0;34m\u001b[0m\u001b[0m\n\u001b[1;32m     11\u001b[0m             \u001b[0;32mprint\u001b[0m\u001b[0;34m(\u001b[0m\u001b[0;34m\"[+] Checking \"\u001b[0m \u001b[0;34m+\u001b[0m \u001b[0mip\u001b[0m \u001b[0;34m+\u001b[0m \u001b[0;34m\":\"\u001b[0m \u001b[0;34m+\u001b[0m \u001b[0mport\u001b[0m\u001b[0;34m)\u001b[0m\u001b[0;34m\u001b[0m\u001b[0m\n",
      "\u001b[0;32m<ipython-input-21-5508846065de>\u001b[0m in \u001b[0;36mget_banner\u001b[0;34m(ip, port)\u001b[0m\n\u001b[1;32m      7\u001b[0m     \u001b[0ms\u001b[0m \u001b[0;34m=\u001b[0m \u001b[0msocket\u001b[0m\u001b[0;34m.\u001b[0m\u001b[0msocket\u001b[0m\u001b[0;34m(\u001b[0m\u001b[0;34m)\u001b[0m\u001b[0;34m\u001b[0m\u001b[0m\n\u001b[1;32m      8\u001b[0m     \u001b[0;32mtry\u001b[0m\u001b[0;34m:\u001b[0m\u001b[0;34m\u001b[0m\u001b[0m\n\u001b[0;32m----> 9\u001b[0;31m         \u001b[0ms\u001b[0m\u001b[0;34m.\u001b[0m\u001b[0mconnect\u001b[0m\u001b[0;34m(\u001b[0m\u001b[0;34m(\u001b[0m\u001b[0mip\u001b[0m\u001b[0;34m,\u001b[0m \u001b[0mport\u001b[0m\u001b[0;34m)\u001b[0m\u001b[0;34m)\u001b[0m\u001b[0;34m\u001b[0m\u001b[0m\n\u001b[0m\u001b[1;32m     10\u001b[0m         \u001b[0mans\u001b[0m \u001b[0;34m=\u001b[0m \u001b[0ms\u001b[0m\u001b[0;34m.\u001b[0m\u001b[0mrecv\u001b[0m\u001b[0;34m(\u001b[0m\u001b[0;36m1024\u001b[0m\u001b[0;34m)\u001b[0m\u001b[0;34m\u001b[0m\u001b[0m\n\u001b[1;32m     11\u001b[0m         \u001b[0;32mreturn\u001b[0m \u001b[0mans\u001b[0m\u001b[0;34m\u001b[0m\u001b[0m\n",
      "\u001b[0;32m/System/Library/Frameworks/Python.framework/Versions/2.7/lib/python2.7/socket.pyc\u001b[0m in \u001b[0;36mmeth\u001b[0;34m(name, self, *args)\u001b[0m\n\u001b[1;32m    226\u001b[0m \u001b[0;34m\u001b[0m\u001b[0m\n\u001b[1;32m    227\u001b[0m \u001b[0;32mdef\u001b[0m \u001b[0mmeth\u001b[0m\u001b[0;34m(\u001b[0m\u001b[0mname\u001b[0m\u001b[0;34m,\u001b[0m\u001b[0mself\u001b[0m\u001b[0;34m,\u001b[0m\u001b[0;34m*\u001b[0m\u001b[0margs\u001b[0m\u001b[0;34m)\u001b[0m\u001b[0;34m:\u001b[0m\u001b[0;34m\u001b[0m\u001b[0m\n\u001b[0;32m--> 228\u001b[0;31m     \u001b[0;32mreturn\u001b[0m \u001b[0mgetattr\u001b[0m\u001b[0;34m(\u001b[0m\u001b[0mself\u001b[0m\u001b[0;34m.\u001b[0m\u001b[0m_sock\u001b[0m\u001b[0;34m,\u001b[0m\u001b[0mname\u001b[0m\u001b[0;34m)\u001b[0m\u001b[0;34m(\u001b[0m\u001b[0;34m*\u001b[0m\u001b[0margs\u001b[0m\u001b[0;34m)\u001b[0m\u001b[0;34m\u001b[0m\u001b[0m\n\u001b[0m\u001b[1;32m    229\u001b[0m \u001b[0;34m\u001b[0m\u001b[0m\n\u001b[1;32m    230\u001b[0m \u001b[0;32mfor\u001b[0m \u001b[0m_m\u001b[0m \u001b[0;32min\u001b[0m \u001b[0m_socketmethods\u001b[0m\u001b[0;34m:\u001b[0m\u001b[0;34m\u001b[0m\u001b[0m\n",
      "\u001b[0;31mKeyboardInterrupt\u001b[0m: "
     ]
    }
   ],
   "source": [
    "# main()\n",
    "# generate list of all possible ip's on subnet 192.168.1.0/24\n",
    "ip_list = map(lambda ip: \"192.168.1.{}\".format(ip), range(1, 255))\n",
    "# test ports telnet, ssh, smtp, http, imap and https\n",
    "port_list = [21, 22, 25, 80, 110, 443]\n",
    "\n",
    "for ip in ip_list:\n",
    "    for port in port_list:\n",
    "        banner = get_banner(ip, port)\n",
    "        if banner:\n",
    "            print(\"[+] Checking \" + ip + \":\" + port)\n",
    "            check_vulnerabilities(banner)"
   ]
  },
  {
   "cell_type": "code",
   "execution_count": null,
   "metadata": {},
   "outputs": [],
   "source": []
  }
 ],
 "metadata": {
  "kernelspec": {
   "display_name": "Python 2",
   "language": "python",
   "name": "python2"
  },
  "language_info": {
   "codemirror_mode": {
    "name": "ipython",
    "version": 2
   },
   "file_extension": ".py",
   "mimetype": "text/x-python",
   "name": "python",
   "nbconvert_exporter": "python",
   "pygments_lexer": "ipython2",
   "version": "2.7.10"
  }
 },
 "nbformat": 4,
 "nbformat_minor": 2
}
